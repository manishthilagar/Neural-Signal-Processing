{
 "cells": [
  {
   "cell_type": "code",
   "execution_count": 49,
   "metadata": {},
   "outputs": [
    {
     "data": {
      "application/vnd.jupyter.widget-view+json": {
       "model_id": "f39e9aedd6da40b3b49ce3f8f3b50c94",
       "version_major": 2,
       "version_minor": 0
      },
      "text/plain": [
       "interactive(children=(FloatSlider(value=1.0, description='Amplitude:', max=2.0, min=0.1), FloatSlider(value=2.…"
      ]
     },
     "metadata": {},
     "output_type": "display_data"
    }
   ],
   "source": [
    "import numpy as np\n",
    "import matplotlib.pyplot as plt\n",
    "import ipywidgets as widgets\n",
    "from IPython.display import display\n",
    "\n",
    "# Define function to update plot\n",
    "def update_plot(amplitude, frequency, phase_shift):\n",
    "    # Generate time samples\n",
    "    t = np.linspace(0, duration, int(sample_rate * duration))\n",
    "    \n",
    "    # Generate sine wave\n",
    "    signal = amplitude * np.sin(2 * np.pi * frequency * t + phase_shift)\n",
    "    \n",
    "    # Clear previous plot\n",
    "    plt.clf()\n",
    "    \n",
    "    # Plot the sine wave\n",
    "    plt.plot(t, signal, label=\"Sine Wave\")\n",
    "    \n",
    "    # Customize the plot for better understanding\n",
    "    plt.xlabel(\"Time (s)\")\n",
    "    plt.ylabel(\"Amplitude\")\n",
    "    plt.title(\"Sine Wave (A={}, f={}Hz, Phase Shift={})\".format(amplitude, frequency, phase_shift))\n",
    "    plt.grid(True)\n",
    "    plt.legend()\n",
    "    \n",
    "    # Show the plot\n",
    "    plt.show()\n",
    "\n",
    "# Define signal parameters\n",
    "amplitude = widgets.FloatSlider(min=0.1, max=2, step=0.1, value=1, description='Amplitude:')\n",
    "frequency = widgets.FloatSlider(min=0.1, max=10, step=0.1, value=2, description='Frequency:')\n",
    "phase_shift = widgets.FloatSlider(min=0, max=30, step=1, value=30, description='Phase Shift:')\n",
    "sample_rate = 100  # Number of samples per second (higher for smoother curve)\n",
    "duration = 5  # Duration of the signal in seconds\n",
    "\n",
    "# Create interactive plot\n",
    "interactive_plot = widgets.interactive(update_plot, amplitude=amplitude, frequency=frequency, phase_shift=phase_shift)\n",
    "display(interactive_plot)\n"
   ]
  }
 ],
 "metadata": {
  "kernelspec": {
   "display_name": "Python 3",
   "language": "python",
   "name": "python3"
  },
  "language_info": {
   "codemirror_mode": {
    "name": "ipython",
    "version": 3
   },
   "file_extension": ".py",
   "mimetype": "text/x-python",
   "name": "python",
   "nbconvert_exporter": "python",
   "pygments_lexer": "ipython3",
   "version": "3.11.1"
  }
 },
 "nbformat": 4,
 "nbformat_minor": 2
}
